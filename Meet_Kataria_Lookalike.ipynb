{
  "nbformat": 4,
  "nbformat_minor": 0,
  "metadata": {
    "colab": {
      "provenance": []
    },
    "kernelspec": {
      "name": "python3",
      "display_name": "Python 3"
    },
    "language_info": {
      "name": "python"
    }
  },
  "cells": [
    {
      "cell_type": "markdown",
      "source": [
        "Import the required Libraries and Load the Datasets"
      ],
      "metadata": {
        "id": "IkPnwQtiLt6b"
      }
    },
    {
      "cell_type": "code",
      "execution_count": 18,
      "metadata": {
        "id": "WSwt3O6AIt-y"
      },
      "outputs": [],
      "source": [
        "import pandas as pd\n",
        "from sklearn.metrics.pairwise import cosine_similarity\n",
        "from sklearn.preprocessing import StandardScaler\n",
        "\n",
        "customers = pd.read_csv('Customers.csv')\n",
        "products = pd.read_csv('Products.csv')\n",
        "transactions = pd.read_csv('Transactions.csv')"
      ]
    },
    {
      "cell_type": "markdown",
      "source": [
        "Convert TransactionDate and SignUp into Datetime Format"
      ],
      "metadata": {
        "id": "sfOor1FDL227"
      }
    },
    {
      "cell_type": "code",
      "source": [
        "customers['SignupDate'] = pd.to_datetime(customers['SignupDate'])\n",
        "transactions['TransactionDate'] = pd.to_datetime(transactions['TransactionDate'])"
      ],
      "metadata": {
        "id": "cEGHYHl1JszL"
      },
      "execution_count": 4,
      "outputs": []
    },
    {
      "cell_type": "markdown",
      "source": [
        "Merge transactions with product information"
      ],
      "metadata": {
        "id": "QBQEOyCYTUG6"
      }
    },
    {
      "cell_type": "code",
      "source": [
        "transactions_products = transactions.merge(products, on='ProductID')"
      ],
      "metadata": {
        "id": "g1MpCIsCJxsH"
      },
      "execution_count": 5,
      "outputs": []
    },
    {
      "cell_type": "markdown",
      "source": [
        "Aggregate transaction data per customer"
      ],
      "metadata": {
        "id": "9C8oHz7PTX7Z"
      }
    },
    {
      "cell_type": "code",
      "source": [
        "customer_transactions = transactions_products.groupby('CustomerID').agg(\n",
        "    TotalSpent=('TotalValue', 'sum'),\n",
        "    TotalQuantity=('Quantity', 'sum'),\n",
        "    TransactionCount=('TransactionID', 'count'),\n",
        "    **{f\"Category_{cat}\": ('TotalValue', lambda x: x.sum()) for cat in products['Category'].unique()}\n",
        ").reset_index()"
      ],
      "metadata": {
        "id": "eB8YWJIhJ47q"
      },
      "execution_count": 6,
      "outputs": []
    },
    {
      "cell_type": "markdown",
      "source": [
        "Merge with customer profile data"
      ],
      "metadata": {
        "id": "pQGfzzafTdZv"
      }
    },
    {
      "cell_type": "code",
      "source": [
        "data = pd.merge(customers, customer_transactions, on='CustomerID', how='inner')"
      ],
      "metadata": {
        "id": "kFmkUkXDJ84I"
      },
      "execution_count": 7,
      "outputs": []
    },
    {
      "cell_type": "markdown",
      "source": [
        "Encode categorical data (e.g., Region)"
      ],
      "metadata": {
        "id": "CY9PNXFXTiYu"
      }
    },
    {
      "cell_type": "code",
      "source": [
        "data = pd.get_dummies(data, columns=['Region'], drop_first=True)"
      ],
      "metadata": {
        "id": "GQqQ8yjVKCJu"
      },
      "execution_count": 8,
      "outputs": []
    },
    {
      "cell_type": "markdown",
      "source": [
        "Standardize numerical features"
      ],
      "metadata": {
        "id": "tXt5jdSUTneQ"
      }
    },
    {
      "cell_type": "code",
      "source": [
        "features = [\n",
        "    'TotalSpent', 'TotalQuantity', 'TransactionCount',\n",
        "    *[col for col in data.columns if col.startswith('Category_')]\n",
        "]\n",
        "scaler = StandardScaler()\n",
        "data[features] = scaler.fit_transform(data[features])"
      ],
      "metadata": {
        "id": "g5gdZlCBKEUD"
      },
      "execution_count": 10,
      "outputs": []
    },
    {
      "cell_type": "markdown",
      "source": [
        "Compute similarity matrix using cosine similarity"
      ],
      "metadata": {
        "id": "CsxyEA0sTrP_"
      }
    },
    {
      "cell_type": "code",
      "source": [
        "similarity_matrix = cosine_similarity(data[features])"
      ],
      "metadata": {
        "id": "E1sSO1duKGm6"
      },
      "execution_count": 11,
      "outputs": []
    },
    {
      "cell_type": "markdown",
      "source": [
        "Generate top 3 lookalikes for each customer"
      ],
      "metadata": {
        "id": "2lrKyK-ZTwtK"
      }
    },
    {
      "cell_type": "code",
      "source": [
        "lookalikes = {}\n",
        "for i in range(min(20, len(data))):\n",
        "    customer_id = data.iloc[i]['CustomerID']\n",
        "    similarities = list(enumerate(similarity_matrix[i]))\n",
        "    similarities = sorted(similarities, key=lambda x: x[1], reverse=True)\n",
        "    top_3 = similarities[1:4]\n",
        "    lookalikes[customer_id] = [(data.iloc[j]['CustomerID'], score) for j, score in top_3]"
      ],
      "metadata": {
        "id": "m3ZxzDJ4KLj1"
      },
      "execution_count": 29,
      "outputs": []
    },
    {
      "cell_type": "markdown",
      "source": [
        "Prepare the output file"
      ],
      "metadata": {
        "id": "6vXKIwtJT0Ql"
      }
    },
    {
      "cell_type": "code",
      "source": [
        "lookalike_df = pd.DataFrame(lookalikes).T.reset_index()\n",
        "lookalike_df.columns = ['CustomerID', 'Recommended_1', 'Recommended_2', 'Recommended_3']"
      ],
      "metadata": {
        "id": "m5i5XaokKOI5"
      },
      "execution_count": 30,
      "outputs": []
    },
    {
      "cell_type": "markdown",
      "source": [
        "Save the results to CSV"
      ],
      "metadata": {
        "id": "aP7XSJBgT8K4"
      }
    },
    {
      "source": [
        "lookalike_df.to_csv('Lookalike.csv', index=False)"
      ],
      "cell_type": "code",
      "metadata": {
        "id": "XJFQAdUpKs3Y"
      },
      "execution_count": 32,
      "outputs": []
    },
    {
      "cell_type": "markdown",
      "source": [
        "Download the CSV file"
      ],
      "metadata": {
        "id": "HtGxIPr2T9a1"
      }
    },
    {
      "cell_type": "code",
      "source": [
        "from google.colab import files\n",
        "files.download('Lookalike.csv')"
      ],
      "metadata": {
        "colab": {
          "base_uri": "https://localhost:8080/",
          "height": 17
        },
        "id": "RB1aexxIKTUL",
        "outputId": "b4d37042-7300-48ef-bda8-ba53f0456861"
      },
      "execution_count": 35,
      "outputs": [
        {
          "output_type": "display_data",
          "data": {
            "text/plain": [
              "<IPython.core.display.Javascript object>"
            ],
            "application/javascript": [
              "\n",
              "    async function download(id, filename, size) {\n",
              "      if (!google.colab.kernel.accessAllowed) {\n",
              "        return;\n",
              "      }\n",
              "      const div = document.createElement('div');\n",
              "      const label = document.createElement('label');\n",
              "      label.textContent = `Downloading \"${filename}\": `;\n",
              "      div.appendChild(label);\n",
              "      const progress = document.createElement('progress');\n",
              "      progress.max = size;\n",
              "      div.appendChild(progress);\n",
              "      document.body.appendChild(div);\n",
              "\n",
              "      const buffers = [];\n",
              "      let downloaded = 0;\n",
              "\n",
              "      const channel = await google.colab.kernel.comms.open(id);\n",
              "      // Send a message to notify the kernel that we're ready.\n",
              "      channel.send({})\n",
              "\n",
              "      for await (const message of channel.messages) {\n",
              "        // Send a message to notify the kernel that we're ready.\n",
              "        channel.send({})\n",
              "        if (message.buffers) {\n",
              "          for (const buffer of message.buffers) {\n",
              "            buffers.push(buffer);\n",
              "            downloaded += buffer.byteLength;\n",
              "            progress.value = downloaded;\n",
              "          }\n",
              "        }\n",
              "      }\n",
              "      const blob = new Blob(buffers, {type: 'application/binary'});\n",
              "      const a = document.createElement('a');\n",
              "      a.href = window.URL.createObjectURL(blob);\n",
              "      a.download = filename;\n",
              "      div.appendChild(a);\n",
              "      a.click();\n",
              "      div.remove();\n",
              "    }\n",
              "  "
            ]
          },
          "metadata": {}
        },
        {
          "output_type": "display_data",
          "data": {
            "text/plain": [
              "<IPython.core.display.Javascript object>"
            ],
            "application/javascript": [
              "download(\"download_f6a58ec3-db2f-45a7-a8a4-a1b4524150ae\", \"Lookalike.csv\", 2090)"
            ]
          },
          "metadata": {}
        }
      ]
    }
  ]
}