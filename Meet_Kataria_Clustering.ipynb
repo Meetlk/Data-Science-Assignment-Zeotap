{
  "nbformat": 4,
  "nbformat_minor": 0,
  "metadata": {
    "colab": {
      "provenance": []
    },
    "kernelspec": {
      "name": "python3",
      "display_name": "Python 3"
    },
    "language_info": {
      "name": "python"
    }
  },
  "cells": [
    {
      "cell_type": "markdown",
      "source": [
        "Import the required Libraries and Load the Datasets"
      ],
      "metadata": {
        "id": "SCqeYfm8bo3j"
      }
    },
    {
      "cell_type": "code",
      "source": [
        "import pandas as pd\n",
        "from sklearn.cluster import KMeans\n",
        "from sklearn.preprocessing import StandardScaler\n",
        "from sklearn.metrics import davies_bouldin_score\n",
        "import matplotlib.pyplot as plt\n",
        "import seaborn as sns\n",
        "\n",
        "customers = pd.read_csv('Customers.csv')\n",
        "products = pd.read_csv('Products.csv')\n",
        "transactions = pd.read_csv('Transactions.csv')"
      ],
      "metadata": {
        "id": "2Nc6YC5iXyi7"
      },
      "execution_count": 2,
      "outputs": []
    },
    {
      "cell_type": "markdown",
      "source": [
        "Convert TransactionDate and SignUp into Datetime Format"
      ],
      "metadata": {
        "id": "T4YdbB25b0dn"
      }
    },
    {
      "cell_type": "code",
      "source": [
        "customers['SignupDate'] = pd.to_datetime(customers['SignupDate'])\n",
        "transactions['TransactionDate'] = pd.to_datetime(transactions['TransactionDate'])"
      ],
      "metadata": {
        "id": "sbJCsydUYuLh"
      },
      "execution_count": 4,
      "outputs": []
    },
    {
      "cell_type": "markdown",
      "source": [
        "Merge transactions with product information"
      ],
      "metadata": {
        "id": "sCc1W53pb8Ix"
      }
    },
    {
      "cell_type": "code",
      "source": [
        "transactions_products = transactions.merge(products, on='ProductID')"
      ],
      "metadata": {
        "id": "weLg3WfLYw9X"
      },
      "execution_count": 5,
      "outputs": []
    },
    {
      "cell_type": "markdown",
      "source": [
        "Aggregate transaction data per customer"
      ],
      "metadata": {
        "id": "4HkRb0bWcP4b"
      }
    },
    {
      "cell_type": "code",
      "source": [
        "customer_transactions = transactions_products.groupby('CustomerID').agg(\n",
        "    TotalSpent=('TotalValue', 'sum'),\n",
        "    TotalQuantity=('Quantity', 'sum'),\n",
        "    TransactionCount=('TransactionID', 'count'),\n",
        "    **{f\"Category_{cat}\": ('TotalValue', lambda x: x.sum()) for cat in products['Category'].unique()}\n",
        ").reset_index()"
      ],
      "metadata": {
        "id": "BBjPQ2f7Yzhf"
      },
      "execution_count": 6,
      "outputs": []
    },
    {
      "cell_type": "markdown",
      "source": [
        "Merge with customer profile data"
      ],
      "metadata": {
        "id": "m8pPpm4YcSqs"
      }
    },
    {
      "cell_type": "code",
      "source": [
        "data = pd.merge(customers, customer_transactions, on='CustomerID', how='inner')"
      ],
      "metadata": {
        "id": "9SoArr4eY1zp"
      },
      "execution_count": 7,
      "outputs": []
    },
    {
      "cell_type": "markdown",
      "source": [
        "Encode categorical data (Region)"
      ],
      "metadata": {
        "id": "KAqHH8o6cV2o"
      }
    },
    {
      "cell_type": "code",
      "source": [
        "data = pd.get_dummies(data, columns=['Region'], drop_first=True)"
      ],
      "metadata": {
        "id": "QLqZFn4nY43T"
      },
      "execution_count": 8,
      "outputs": []
    },
    {
      "cell_type": "markdown",
      "source": [
        "Select features for clustering"
      ],
      "metadata": {
        "id": "Kb3mSlp5caAs"
      }
    },
    {
      "cell_type": "code",
      "source": [
        "features = [\n",
        "    'TotalSpent', 'TotalQuantity', 'TransactionCount',\n",
        "    *[col for col in data.columns if col.startswith('Category_')]\n",
        "]"
      ],
      "metadata": {
        "id": "Jgt7jXeHY8Gs"
      },
      "execution_count": 9,
      "outputs": []
    },
    {
      "cell_type": "markdown",
      "source": [
        "Standardize the features"
      ],
      "metadata": {
        "id": "Fs05YdHKcdVM"
      }
    },
    {
      "cell_type": "code",
      "source": [
        "scaler = StandardScaler()\n",
        "data_scaled = scaler.fit_transform(data[features])"
      ],
      "metadata": {
        "id": "1J3xNZCWY-H7"
      },
      "execution_count": 10,
      "outputs": []
    },
    {
      "cell_type": "markdown",
      "source": [
        "**Apply K-Means Clustering**"
      ],
      "metadata": {
        "id": "k3K_PBgccjLE"
      }
    },
    {
      "cell_type": "code",
      "source": [
        "optimal_clusters = 0\n",
        "lowest_db_index = float('inf')\n",
        "cluster_results = {}"
      ],
      "metadata": {
        "id": "ddxfgIHFZAX7"
      },
      "execution_count": 12,
      "outputs": []
    },
    {
      "cell_type": "markdown",
      "source": [
        "Test cluster sizes from 2 to 10"
      ],
      "metadata": {
        "id": "saZTOEXTcmI6"
      }
    },
    {
      "cell_type": "code",
      "source": [
        "for n_clusters in range(2, 11):\n",
        "    kmeans = KMeans(n_clusters=n_clusters, random_state=42)\n",
        "    cluster_labels = kmeans.fit_predict(data_scaled)\n",
        "    db_index = davies_bouldin_score(data_scaled, cluster_labels)\n",
        "    print(f\"Number of Clusters: {n_clusters}, Davies-Bouldin Index: {db_index}\")\n",
        "    cluster_results[n_clusters] = (kmeans, cluster_labels, db_index)\n",
        "    if db_index < lowest_db_index:\n",
        "        lowest_db_index = db_index\n",
        "        optimal_clusters = n_clusters"
      ],
      "metadata": {
        "colab": {
          "base_uri": "https://localhost:8080/"
        },
        "id": "J80sDladZDm-",
        "outputId": "301eabe4-bebd-42c9-fac2-19dc9842d0a9"
      },
      "execution_count": 26,
      "outputs": [
        {
          "output_type": "stream",
          "name": "stdout",
          "text": [
            "Number of Clusters: 2, Davies-Bouldin Index: 0.6537721410831263\n",
            "Number of Clusters: 3, Davies-Bouldin Index: 0.7441213151525697\n",
            "Number of Clusters: 4, Davies-Bouldin Index: 0.780562691836624\n",
            "Number of Clusters: 5, Davies-Bouldin Index: 0.8229576896506423\n",
            "Number of Clusters: 6, Davies-Bouldin Index: 0.8783932029801824\n",
            "Number of Clusters: 7, Davies-Bouldin Index: 0.9119246034371675\n",
            "Number of Clusters: 8, Davies-Bouldin Index: 1.046974579142737\n",
            "Number of Clusters: 9, Davies-Bouldin Index: 1.0051604724578025\n",
            "Number of Clusters: 10, Davies-Bouldin Index: 0.9487055045899344\n"
          ]
        }
      ]
    },
    {
      "cell_type": "markdown",
      "source": [
        "Best clustering result"
      ],
      "metadata": {
        "id": "tbfqHP2scxwM"
      }
    },
    {
      "cell_type": "code",
      "source": [
        "best_kmeans, best_labels, best_db_index = cluster_results[optimal_clusters]\n",
        "print(f\"Optimal number of clusters: {optimal_clusters}\")\n",
        "print(f\"Davies-Bouldin Index: {best_db_index}\")"
      ],
      "metadata": {
        "colab": {
          "base_uri": "https://localhost:8080/"
        },
        "id": "daMgxHQuZGyA",
        "outputId": "737418e5-16dc-4cc5-ee9d-62551e49ebea"
      },
      "execution_count": 29,
      "outputs": [
        {
          "output_type": "stream",
          "name": "stdout",
          "text": [
            "Optimal number of clusters: 2\n",
            "Davies-Bouldin Index: 0.6537721410831263\n"
          ]
        }
      ]
    },
    {
      "cell_type": "markdown",
      "source": [
        "Add cluster labels to data"
      ],
      "metadata": {
        "id": "hZyKK0Pzc08E"
      }
    },
    {
      "cell_type": "code",
      "source": [
        "data['Cluster'] = best_labels"
      ],
      "metadata": {
        "id": "vZ6sDVYIZJbI"
      },
      "execution_count": 30,
      "outputs": []
    },
    {
      "cell_type": "markdown",
      "source": [
        "Plot and Visualise the optimal Clusters"
      ],
      "metadata": {
        "id": "sCbRxm8Cc7jB"
      }
    },
    {
      "cell_type": "code",
      "source": [
        "plt.figure(figsize=(10, 6))\n",
        "sns.scatterplot(x=data_scaled[:, 0], y=data_scaled[:, 1], hue=best_labels, palette='viridis')\n",
        "plt.title(f'Customer Segmentation with {optimal_clusters} Clusters')\n",
        "plt.xlabel('Feature 1')\n",
        "plt.ylabel('Feature 2')\n",
        "plt.legend(title='Cluster')\n",
        "plt.show()"
      ],
      "metadata": {
        "colab": {
          "base_uri": "https://localhost:8080/",
          "height": 564
        },
        "id": "nCPENsdaZLZb",
        "outputId": "64c0399a-1619-4b4d-92df-9406e7d3cac7"
      },
      "execution_count": 31,
      "outputs": [
        {
          "output_type": "display_data",
          "data": {
            "text/plain": [
              "<Figure size 1000x600 with 1 Axes>"
            ],
            "image/png": "[encoded data removed]"
          },
          "metadata": {}
        }
      ]
    },
    {
      "cell_type": "markdown",
      "source": [
        "Final Output"
      ],
      "metadata": {
        "id": "75_G-v0BdQmC"
      }
    },
    {
      "cell_type": "code",
      "source": [
        "{\n",
        "    \"Optimal Clusters\": optimal_clusters,\n",
        "    \"DB Index\": best_db_index,\n",
        "}"
      ],
      "metadata": {
        "colab": {
          "base_uri": "https://localhost:8080/"
        },
        "id": "mv5SpIf4ZNd_",
        "outputId": "ebcb4f88-a2ef-495f-d629-dfc0ece02ca7"
      },
      "execution_count": 32,
      "outputs": [
        {
          "output_type": "execute_result",
          "data": {
            "text/plain": [
              "{'Optimal Clusters': 2, 'DB Index': 0.6537721410831263}"
            ]
          },
          "metadata": {},
          "execution_count": 32
        }
      ]
    }
  ]
}